{
  "nbformat": 4,
  "nbformat_minor": 0,
  "metadata": {
    "colab": {
      "provenance": [],
      "authorship_tag": "ABX9TyMQHTaVkyS9PCy6/IZQvfyd",
      "include_colab_link": true
    },
    "kernelspec": {
      "name": "python3",
      "display_name": "Python 3"
    },
    "language_info": {
      "name": "python"
    }
  },
  "cells": [
    {
      "cell_type": "markdown",
      "metadata": {
        "id": "view-in-github",
        "colab_type": "text"
      },
      "source": [
        "<a href=\"https://colab.research.google.com/github/JoannaFano/PLNG211-2-OLFU-QC/blob/main/Python_Function.ipynb\" target=\"_parent\"><img src=\"https://colab.research.google.com/assets/colab-badge.svg\" alt=\"Open In Colab\"/></a>"
      ]
    },
    {
      "cell_type": "markdown",
      "source": [
        "**Functions**\n",
        "\n",
        "A function is a block of code which only runs when it is called. You can pass data, known as parameters, into a function.\n",
        "\n",
        "A function can return data as a result."
      ],
      "metadata": {
        "id": "5-slbX25IOce"
      }
    },
    {
      "cell_type": "markdown",
      "source": [
        "**Creating own function**"
      ],
      "metadata": {
        "id": "qntIaw6CIprx"
      }
    },
    {
      "cell_type": "code",
      "execution_count": 1,
      "metadata": {
        "colab": {
          "base_uri": "https://localhost:8080/"
        },
        "id": "ujPRbuTcIIgw",
        "outputId": "0a577b1b-8bd2-4661-f0b3-3e3298050a68"
      },
      "outputs": [
        {
          "output_type": "stream",
          "name": "stdout",
          "text": [
            "11\n",
            "Fahrenheit to Celsius -11.67\n"
          ]
        }
      ],
      "source": [
        "def convert_to_celsius(fahrenheit):\n",
        "  return (fahrenheit-32)*5/9   #(100-32) *5/9\n",
        "\n",
        "fahrenheit = int(input())\n",
        "print(\"Fahrenheit to Celsius\",round(convert_to_celsius(fahrenheit),2))"
      ]
    },
    {
      "cell_type": "markdown",
      "source": [
        "**Create a function that will display three consecutive my_function values**"
      ],
      "metadata": {
        "id": "6JRBKjgmI49j"
      }
    },
    {
      "cell_type": "code",
      "source": [
        "def my_function(fname):\n",
        "  print(fname+\"Fano\")\n",
        "\n",
        "my_function(\"Joanna \")\n",
        "my_function(\"Ms.\")"
      ],
      "metadata": {
        "colab": {
          "base_uri": "https://localhost:8080/"
        },
        "id": "kvgtvpqTI-Od",
        "outputId": "e8f7084c-ba0b-43a6-9c1e-d26671cbac2c"
      },
      "execution_count": 2,
      "outputs": [
        {
          "output_type": "stream",
          "name": "stdout",
          "text": [
            "Joanna Fano\n",
            "Ms.Fano\n"
          ]
        }
      ]
    },
    {
      "cell_type": "markdown",
      "source": [
        "**Create an arithmetic function**"
      ],
      "metadata": {
        "id": "CMrTaAQ0JQBl"
      }
    },
    {
      "cell_type": "code",
      "source": [
        "def myfunction(x):\n",
        "  return 5+x\n",
        "\n",
        "print(myfunction(1))\n",
        "print(myfunction(2))\n",
        "print(myfunction(3))\n",
        "print(myfunction(4))\n",
        "print(myfunction(5))\n",
        "print(myfunction(6))\n",
        "print(myfunction(7))\n",
        "print(myfunction(8))\n",
        "print(myfunction(9))\n",
        "print(myfunction(10))"
      ],
      "metadata": {
        "colab": {
          "base_uri": "https://localhost:8080/"
        },
        "id": "VKYkLS6HJW29",
        "outputId": "0a45a46d-5106-47b4-8298-df52fb807121"
      },
      "execution_count": 7,
      "outputs": [
        {
          "output_type": "stream",
          "name": "stdout",
          "text": [
            "8\n",
            "9\n",
            "10\n",
            "10\n",
            "10\n"
          ]
        }
      ]
    },
    {
      "cell_type": "markdown",
      "source": [
        "**Exercise 1**"
      ],
      "metadata": {
        "id": "20jcmaCArmQn"
      }
    },
    {
      "cell_type": "code",
      "source": [
        "#Exercise 1\n",
        "#Two of python's built-in function are min and max.\n",
        "#Given:\n",
        "#  a. min(2,3,4)\n",
        "#  b. max (2, -3, 4, 7,-5)\n",
        "#  b. max (2, -3, min(4,7), -5)\n",
        "\n",
        "def fun(element):\n",
        "    return(len(element))\n",
        " \n",
        "a =[2, 3 , 4]\n",
        "print(min(a))\n",
        "b =[2, -3, 4, 7, -5]\n",
        "print(max(b))\n",
        "c =[2, -3, min (4,7), 5]\n",
        "print (max(c))"
      ],
      "metadata": {
        "colab": {
          "base_uri": "https://localhost:8080/"
        },
        "id": "Jv0TzSDxrnOg",
        "outputId": "29b17b1a-6eff-4cc6-fc38-f453e79399b1"
      },
      "execution_count": 4,
      "outputs": [
        {
          "output_type": "stream",
          "name": "stdout",
          "text": [
            "2\n",
            "7\n",
            "5\n"
          ]
        }
      ]
    },
    {
      "cell_type": "markdown",
      "source": [
        "**Exercise 2**"
      ],
      "metadata": {
        "id": "naxWBm9grrdr"
      }
    },
    {
      "cell_type": "code",
      "source": [
        "#Exercise 2\n",
        "#Write a python function that will return the sum, the average, and the sum of squares of three integers.\n",
        "\n",
        "import math\n",
        "\n",
        "print(\"Enter three integers: \")\n",
        "def sum(firstInt,secondInt,thirdInt):\n",
        "  return firstInt + secondInt + thirdInt\n",
        "def average(firstInt,secondInt,thirdInt):\n",
        "  return firstInt + secondInt + thirdInt/3\n",
        "def sumSquare(firstInt,secondInt,thirdInt):\n",
        "  return math.pow(firstInt,2) + math.pow(secondInt,2) + math.pow(thirdInt,2)\n",
        "\n",
        "firstInt= int(input())\n",
        "secondInt= int(input())\n",
        "thirdInt= int(input())\n",
        "\n",
        "print(\"Sum =\",sum(firstInt,secondInt,thirdInt))\n",
        "print(\"Average =\",average(firstInt,secondInt,thirdInt))\n",
        "print(\"Sum of Squares =\",sumSquare(firstInt,secondInt,thirdInt))"
      ],
      "metadata": {
        "colab": {
          "base_uri": "https://localhost:8080/"
        },
        "id": "tM64eB5nrt67",
        "outputId": "80038645-b812-4391-d295-d206792705df"
      },
      "execution_count": 3,
      "outputs": [
        {
          "output_type": "stream",
          "name": "stdout",
          "text": [
            "Enter three integers: \n",
            "12\n",
            "13\n",
            "41\n",
            "Sum = 66\n",
            "Average = 38.666666666666664\n",
            "Sum of Squares = 1994.0\n"
          ]
        }
      ]
    },
    {
      "cell_type": "markdown",
      "source": [
        "**Application**\n",
        "\n",
        "**Create formula of area of different shapes**"
      ],
      "metadata": {
        "id": "HAFWJp_cJeLB"
      }
    },
    {
      "cell_type": "code",
      "source": [
        "def rectangle(l,w):\n",
        "  return l*w\n",
        "\n",
        "l= int(input())\n",
        "w= int(input())\n",
        "\n",
        "def square(s):\n",
        "  return pow(s,2)\n",
        "\n",
        "print(rectangle(l,w))"
      ],
      "metadata": {
        "colab": {
          "base_uri": "https://localhost:8080/"
        },
        "id": "3E3ggz3EJwdL",
        "outputId": "52a22ddd-c82e-4a98-f355-c3e3ea827145"
      },
      "execution_count": 6,
      "outputs": [
        {
          "output_type": "stream",
          "name": "stdout",
          "text": [
            "11\n",
            "21\n",
            "231\n"
          ]
        }
      ]
    }
  ]
}