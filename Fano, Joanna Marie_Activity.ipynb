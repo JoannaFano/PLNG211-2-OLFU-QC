{
  "nbformat": 4,
  "nbformat_minor": 0,
  "metadata": {
    "colab": {
      "provenance": [],
      "authorship_tag": "ABX9TyNobFeFuLoSCmfepcIJBdzV",
      "include_colab_link": true
    },
    "kernelspec": {
      "name": "python3",
      "display_name": "Python 3"
    },
    "language_info": {
      "name": "python"
    }
  },
  "cells": [
    {
      "cell_type": "markdown",
      "metadata": {
        "id": "view-in-github",
        "colab_type": "text"
      },
      "source": [
        "<a href=\"https://colab.research.google.com/github/JoannaFano/PLNG211-2-OLFU-QC/blob/main/Fano%2C%20Joanna%20Marie_Activity.ipynb\" target=\"_parent\"><img src=\"https://colab.research.google.com/assets/colab-badge.svg\" alt=\"Open In Colab\"/></a>"
      ]
    },
    {
      "cell_type": "code",
      "execution_count": null,
      "metadata": {
        "colab": {
          "base_uri": "https://localhost:8080/"
        },
        "id": "gtE0_JpyAt7q",
        "outputId": "3d2cd260-7dd5-49f4-80a4-0b8e0f0b847c"
      },
      "outputs": [
        {
          "output_type": "stream",
          "name": "stdout",
          "text": [
            "Salary:  600.0\n",
            "Salary in 15 days: 9000.0\n",
            "Taxable Amount:  2700.0\n",
            "Net Pay:  6300.0\n"
          ]
        }
      ],
      "source": [
        "Salary_rate = 600.00\n",
        "Salary = Salary_rate * 15\n",
        "Taxable_amount = Salary * 0.30\n",
        "Net_pay = Salary - Taxable_amount\n",
        "\n",
        "print(\"Salary: \", Salary_rate)\n",
        "print(\"Salary in 15 days:\", Salary)\n",
        "print(\"Taxable Amount: \", Taxable_amount)\n",
        "print(\"Net Pay: \", Net_pay)"
      ]
    }
  ]
}