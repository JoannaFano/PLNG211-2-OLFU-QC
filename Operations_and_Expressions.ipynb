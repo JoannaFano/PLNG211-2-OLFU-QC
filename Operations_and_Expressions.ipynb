{
  "nbformat": 4,
  "nbformat_minor": 0,
  "metadata": {
    "colab": {
      "provenance": [],
      "collapsed_sections": [],
      "authorship_tag": "ABX9TyO6Sn/RqkrddApxCRjgJmpV",
      "include_colab_link": true
    },
    "kernelspec": {
      "name": "python3",
      "display_name": "Python 3"
    },
    "language_info": {
      "name": "python"
    }
  },
  "cells": [
    {
      "cell_type": "markdown",
      "metadata": {
        "id": "view-in-github",
        "colab_type": "text"
      },
      "source": [
        "<a href=\"https://colab.research.google.com/github/JoannaFano/PLNG211-2-OLFU-QC/blob/main/Operations_and_Expressions.ipynb\" target=\"_parent\"><img src=\"https://colab.research.google.com/assets/colab-badge.svg\" alt=\"Open In Colab\"/></a>"
      ]
    },
    {
      "cell_type": "markdown",
      "source": [
        "**Boolean Operators**"
      ],
      "metadata": {
        "id": "anMGHC0f9vXK"
      }
    },
    {
      "cell_type": "code",
      "execution_count": 14,
      "metadata": {
        "colab": {
          "base_uri": "https://localhost:8080/"
        },
        "id": "iBtJx9Em7yoQ",
        "outputId": "a89d8d81-c816-4c3d-9c00-9570f7f00645"
      },
      "outputs": [
        {
          "output_type": "stream",
          "name": "stdout",
          "text": [
            "True\n",
            "False\n",
            "False\n"
          ]
        }
      ],
      "source": [
        "a = 10\n",
        "b = 5\n",
        "print(a>b)\n",
        "print(b==a)\n",
        "print(5>10)"
      ]
    },
    {
      "cell_type": "markdown",
      "source": [
        "**Boolean () function**"
      ],
      "metadata": {
        "id": "IeMf3Kse-GdU"
      }
    },
    {
      "cell_type": "code",
      "source": [
        "print(bool(2))\n",
        "print(bool(\"Hello world\"))\n",
        "print(bool(0))\n",
        "print(bool(None))\n",
        "print(bool([]))"
      ],
      "metadata": {
        "colab": {
          "base_uri": "https://localhost:8080/"
        },
        "id": "sbxxzuy2-PLq",
        "outputId": "d524d5d5-7d2c-4d9d-e062-eb65cbdb12f6"
      },
      "execution_count": 15,
      "outputs": [
        {
          "output_type": "stream",
          "name": "stdout",
          "text": [
            "True\n",
            "True\n",
            "False\n",
            "False\n",
            "False\n"
          ]
        }
      ]
    },
    {
      "cell_type": "markdown",
      "source": [
        "**Function that returns a boolean answers**"
      ],
      "metadata": {
        "id": "xZvYcm5g-omX"
      }
    },
    {
      "cell_type": "code",
      "source": [
        "def My_Fuction():\n",
        "  return False\n",
        "\n",
        "  if My_Fuction():\n",
        "    print(\"Correct\")\n",
        "  else:\n",
        "    print(\"Incorrect\")"
      ],
      "metadata": {
        "id": "b8XLrN-M_l0z"
      },
      "execution_count": 23,
      "outputs": []
    },
    {
      "cell_type": "markdown",
      "source": [],
      "metadata": {
        "id": "TvgFMcXTACoo"
      }
    },
    {
      "cell_type": "code",
      "source": [
        "c = 6\n",
        "d = 7\n",
        "print(c == d)\n",
        "print(c != d)"
      ],
      "metadata": {
        "colab": {
          "base_uri": "https://localhost:8080/"
        },
        "id": "pAJVyk4F_6uh",
        "outputId": "61b472e1-eaa6-499e-e055-5d987a72975d"
      },
      "execution_count": 19,
      "outputs": [
        {
          "output_type": "stream",
          "name": "stdout",
          "text": [
            "False\n",
            "True\n"
          ]
        }
      ]
    },
    {
      "cell_type": "markdown",
      "source": [
        "**Python Operators**"
      ],
      "metadata": {
        "id": "HMoBX5DFA2bP"
      }
    },
    {
      "cell_type": "code",
      "source": [
        "print(5+15)\n",
        "print(15-5)\n",
        "print(5*5)\n",
        "print(5**5)\n",
        "print(9/3)      #division\n",
        "print(9//4)     #floor division\n",
        "print(9%4)      #modulo"
      ],
      "metadata": {
        "colab": {
          "base_uri": "https://localhost:8080/"
        },
        "id": "A8UmsBwuA8Bs",
        "outputId": "e53dc9df-2c82-4297-a2ca-5cb3450b7f47"
      },
      "execution_count": 20,
      "outputs": [
        {
          "output_type": "stream",
          "name": "stdout",
          "text": [
            "20\n",
            "10\n",
            "25\n",
            "3125\n",
            "3.0\n",
            "2\n",
            "1\n"
          ]
        }
      ]
    },
    {
      "cell_type": "markdown",
      "source": [
        "**Python Bitwise Operators**"
      ],
      "metadata": {
        "id": "J7VIOqJ_BvHI"
      }
    },
    {
      "cell_type": "code",
      "source": [
        "e = 60\n",
        "f = 13\n",
        "\n",
        "\n",
        "\n",
        "print(e & f)\n",
        "print(e >> 1)\n",
        "print(e << 1)\n",
        "print(~f)       #00001101, 2s complement"
      ],
      "metadata": {
        "colab": {
          "base_uri": "https://localhost:8080/"
        },
        "id": "ryGJLqaUBvTa",
        "outputId": "8cdd54fb-4406-4a27-f002-f8769f042efd"
      },
      "execution_count": 25,
      "outputs": [
        {
          "output_type": "stream",
          "name": "stdout",
          "text": [
            "12\n",
            "30\n",
            "120\n",
            "-14\n"
          ]
        }
      ]
    },
    {
      "cell_type": "markdown",
      "source": [
        "**Python Assignment Operators**"
      ],
      "metadata": {
        "id": "sVpExbRoC8Pw"
      }
    },
    {
      "cell_type": "code",
      "source": [
        "x = 18\n",
        "y = 7\n",
        "x+=3                #same as x =x + 3 , x = 18 + 3 = 21\n",
        "print(\"x = \", x)    "
      ],
      "metadata": {
        "colab": {
          "base_uri": "https://localhost:8080/"
        },
        "id": "GAu04sWPC8m4",
        "outputId": "0a8755ab-8a31-4d72-ae68-76b930b0c944"
      },
      "execution_count": 29,
      "outputs": [
        {
          "output_type": "stream",
          "name": "stdout",
          "text": [
            "x =  21\n"
          ]
        }
      ]
    },
    {
      "cell_type": "markdown",
      "source": [
        "**Logical Operators**"
      ],
      "metadata": {
        "id": "AhgiFlyjGs88"
      }
    },
    {
      "cell_type": "code",
      "source": [
        "print(x>y and x==x)\n",
        "print(y!=y or x==y)\n",
        "print(not(y != y or x == 7))"
      ],
      "metadata": {
        "colab": {
          "base_uri": "https://localhost:8080/"
        },
        "id": "8HMEPn46GtKP",
        "outputId": "6a857517-4c87-4d01-e740-441e29a11399"
      },
      "execution_count": 37,
      "outputs": [
        {
          "output_type": "stream",
          "name": "stdout",
          "text": [
            "True\n",
            "False\n",
            "True\n"
          ]
        }
      ]
    },
    {
      "cell_type": "markdown",
      "source": [
        "**Identity Operators**"
      ],
      "metadata": {
        "id": "w0e9BF-pH5-8"
      }
    },
    {
      "cell_type": "code",
      "source": [
        "#is, is not\n",
        "print(x is y)\n",
        "print(x is x)print(x is not y)"
      ],
      "metadata": {
        "colab": {
          "base_uri": "https://localhost:8080/"
        },
        "id": "m_QroWXqH6Mn",
        "outputId": "ccddc0a4-3c52-4bc7-aab9-8cf919a6c29c"
      },
      "execution_count": 39,
      "outputs": [
        {
          "output_type": "stream",
          "name": "stdout",
          "text": [
            "False\n",
            "True\n",
            "True\n"
          ]
        }
      ]
    }
  ]
}