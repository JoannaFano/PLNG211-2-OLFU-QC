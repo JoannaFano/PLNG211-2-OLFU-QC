{
  "nbformat": 4,
  "nbformat_minor": 0,
  "metadata": {
    "colab": {
      "provenance": [],
      "collapsed_sections": [],
      "authorship_tag": "ABX9TyOFegZh5c+eZsfnwwCgvAUB",
      "include_colab_link": true
    },
    "kernelspec": {
      "name": "python3",
      "display_name": "Python 3"
    },
    "language_info": {
      "name": "python"
    }
  },
  "cells": [
    {
      "cell_type": "markdown",
      "metadata": {
        "id": "view-in-github",
        "colab_type": "text"
      },
      "source": [
        "<a href=\"https://colab.research.google.com/github/JoannaFano/PLNG211-2-OLFU-QC/blob/main/Intro_to_Python.ipynb\" target=\"_parent\"><img src=\"https://colab.research.google.com/assets/colab-badge.svg\" alt=\"Open In Colab\"/></a>"
      ]
    },
    {
      "cell_type": "markdown",
      "source": [
        "**What is Python?**\n",
        "\n",
        "---\n",
        "Python is a popular programming language created by Guido Van Rossum in 1991."
      ],
      "metadata": {
        "id": "1tncViJ4S8ya"
      }
    },
    {
      "cell_type": "markdown",
      "source": [
        "**Variable Naming Conventions**\n",
        "\n",
        "* Must start with a letter or underscore.\n",
        "* Cannot start with a number.\n",
        "* Case sensitive: a and A is different.\n",
        "* Can only include A-Z, 0-9, and _."
      ],
      "metadata": {
        "id": "0uq0mil_OqkJ"
      }
    },
    {
      "cell_type": "markdown",
      "source": [
        "\n",
        "**Python Indentation**\n",
        "\n",
        "Indentation refers to the spaces at the beginning of a code line"
      ],
      "metadata": {
        "id": "bwm7PSG8VowJ"
      }
    },
    {
      "cell_type": "code",
      "source": [
        "  if 5 > 2:\n",
        "    print(\"Five is greater than two!\")"
      ],
      "metadata": {
        "colab": {
          "base_uri": "https://localhost:8080/"
        },
        "id": "ApbTS44EfRbh",
        "outputId": "82a7dcf9-5fc6-4ec0-986d-f28a57457b6e"
      },
      "execution_count": 79,
      "outputs": [
        {
          "output_type": "stream",
          "name": "stdout",
          "text": [
            "Five is greater than two!\n"
          ]
        }
      ]
    },
    {
      "cell_type": "markdown",
      "source": [
        "**Comment**\n",
        "\n",
        "Used to explain Python code and make the code more readable"
      ],
      "metadata": {
        "id": "Oy_kFioPetvd"
      }
    },
    {
      "cell_type": "code",
      "source": [
        "#This is a comment\n",
        "print(\"Hello, world\")"
      ],
      "metadata": {
        "colab": {
          "base_uri": "https://localhost:8080/"
        },
        "id": "aOIb4TX3eMiJ",
        "outputId": "1cbaa038-a2ed-4b47-c710-01bbb0d80286"
      },
      "execution_count": 80,
      "outputs": [
        {
          "output_type": "stream",
          "name": "stdout",
          "text": [
            "Hello, world\n"
          ]
        }
      ]
    },
    {
      "cell_type": "markdown",
      "source": [
        "**Python Variable**\n",
        "\n",
        "Variables are containers for storing data values"
      ],
      "metadata": {
        "id": "Fuigc-y-fUT_"
      }
    },
    {
      "cell_type": "code",
      "source": [
        "#Single Variable\n",
        "a = 20\n",
        "\n",
        "#Multiple Variable\n",
        "b, c, d = 6, 11, 2002\n",
        "\n",
        "#String type\n",
        "e = \"Joanna\"  \n",
        "f = \"Marie\"\n",
        "g = \"Fano\"\n",
        "h = \"is\"\n",
        "i = \"years old\"\n",
        "j = \"and born in\"\n",
        "k = \"/\"\n",
        "\n",
        "print(\"Name:\", e, f, g)\n",
        "print(\"Age:\", a)\n",
        "print(\"Birthday:\", b, k, c, k, d)\n",
        "print(e, f, g, h, a, i, j, b, k, c, k, d)"
      ],
      "metadata": {
        "colab": {
          "base_uri": "https://localhost:8080/"
        },
        "id": "OIcrAEMyfmN8",
        "outputId": "1dc83c83-f417-4dab-8237-29b211c84041"
      },
      "execution_count": 81,
      "outputs": [
        {
          "output_type": "stream",
          "name": "stdout",
          "text": [
            "Name: Joanna Marie Fano\n",
            "Age: 20\n",
            "Birthday: 6 / 11 / 2002\n",
            "Joanna Marie Fano is 20 years old and born in 6 / 11 / 2002\n"
          ]
        }
      ]
    },
    {
      "cell_type": "markdown",
      "source": [
        "**Casting**\n",
        "\n",
        "The data types of objects are converted using predefined functions by the user"
      ],
      "metadata": {
        "id": "MQaYL151kmIy"
      }
    },
    {
      "cell_type": "code",
      "source": [
        "a = float(5.1)\n",
        "b = int(49)\n",
        "c = str(\"Height (ft):\")\n",
        "d = str(\"Weight (kg):\")\n",
        "\n",
        "print(c, a)\n",
        "print(d, b)"
      ],
      "metadata": {
        "colab": {
          "base_uri": "https://localhost:8080/"
        },
        "id": "DjuJ2vaTlQab",
        "outputId": "7e8be9a3-7b52-4974-8580-f18f0338c815"
      },
      "execution_count": 82,
      "outputs": [
        {
          "output_type": "stream",
          "name": "stdout",
          "text": [
            "Height (ft): 5.1\n",
            "Weight (kg): 49\n"
          ]
        }
      ]
    },
    {
      "cell_type": "markdown",
      "source": [
        "**Type() Function**\n",
        "\n",
        "Used to get the type of an object"
      ],
      "metadata": {
        "id": "yO2HLgmemxse"
      }
    },
    {
      "cell_type": "code",
      "source": [
        "a = \"cat\"\n",
        "b = 12345\n",
        "c = 99.99\n",
        "\n",
        "print(type(a))\n",
        "print(type(b))\n",
        "print(type(c))"
      ],
      "metadata": {
        "colab": {
          "base_uri": "https://localhost:8080/"
        },
        "id": "N5MzwKBJnGlN",
        "outputId": "89466858-15f6-45a6-b96c-7409f9b3ef4a"
      },
      "execution_count": 83,
      "outputs": [
        {
          "output_type": "stream",
          "name": "stdout",
          "text": [
            "<class 'str'>\n",
            "<class 'int'>\n",
            "<class 'float'>\n"
          ]
        }
      ]
    },
    {
      "cell_type": "markdown",
      "source": [
        "**“Double quotes” or ‘Single’ quotes**\n",
        "\n",
        "String variables can be declared either by using \n",
        "single or double quotes:"
      ],
      "metadata": {
        "id": "Y-n5uXEsnwwr"
      }
    },
    {
      "cell_type": "code",
      "source": [
        "a = \"dog\"\n",
        "b = 'dog'\n",
        "\n",
        "print(a)\n",
        "print(b)"
      ],
      "metadata": {
        "colab": {
          "base_uri": "https://localhost:8080/"
        },
        "id": "rzxciGv6n17e",
        "outputId": "0aba6311-abb6-4741-b00b-8e0b376c2e6e"
      },
      "execution_count": 84,
      "outputs": [
        {
          "output_type": "stream",
          "name": "stdout",
          "text": [
            "dog\n",
            "dog\n"
          ]
        }
      ]
    },
    {
      "cell_type": "markdown",
      "source": [
        "**Case Sensitive**\n",
        "\n",
        "It's the differentiation between lower- and uppercase letters"
      ],
      "metadata": {
        "id": "RiFgc9OaoPGr"
      }
    },
    {
      "cell_type": "code",
      "source": [
        "A = \"cat\"\n",
        "a = \"dog\"\n",
        "\n",
        "print(A)\n",
        "print(a)"
      ],
      "metadata": {
        "colab": {
          "base_uri": "https://localhost:8080/"
        },
        "id": "EPu2luZbon5n",
        "outputId": "48b7f05a-56ff-4b1b-adb7-0a362f82c284"
      },
      "execution_count": 85,
      "outputs": [
        {
          "output_type": "stream",
          "name": "stdout",
          "text": [
            "cat\n",
            "dog\n"
          ]
        }
      ]
    },
    {
      "cell_type": "markdown",
      "source": [
        "  **Multiple Variable**\n",
        "\n",
        "You can assign multiple values to multiple variables by separating variables and values with commas "
      ],
      "metadata": {
        "id": "SJ2hFUVTo2yM"
      }
    },
    {
      "cell_type": "code",
      "source": [
        "a, b, c = 1, 2, 3\n",
        "d, e, g = \"Joanna\", \"Marie\", \"Fano\"\n",
        "\n",
        "print(a, b, c)\n",
        "print(d, e, g)"
      ],
      "metadata": {
        "colab": {
          "base_uri": "https://localhost:8080/"
        },
        "id": "fPrimmm9plFb",
        "outputId": "cec58cce-690d-45d3-db6d-96743f5ab0b4"
      },
      "execution_count": 86,
      "outputs": [
        {
          "output_type": "stream",
          "name": "stdout",
          "text": [
            "1 2 3\n",
            "Joanna Marie Fano\n"
          ]
        }
      ]
    },
    {
      "cell_type": "markdown",
      "source": [
        "**Single Value to Multiple Variables**\n",
        "\n",
        "You can assign the same value to multiple variables"
      ],
      "metadata": {
        "id": "SnB6UpqKqMcv"
      }
    },
    {
      "cell_type": "code",
      "source": [
        "a = b = c = \"python\"\n",
        "\n",
        "print(a)\n",
        "print(b)\n",
        "print(c)"
      ],
      "metadata": {
        "colab": {
          "base_uri": "https://localhost:8080/"
        },
        "id": "tyh0AtZbqab5",
        "outputId": "223ed07a-0158-4a3a-d331-4b4c7cf46314"
      },
      "execution_count": 87,
      "outputs": [
        {
          "output_type": "stream",
          "name": "stdout",
          "text": [
            "python\n",
            "python\n",
            "python\n"
          ]
        }
      ]
    },
    {
      "cell_type": "markdown",
      "source": [
        "**Output Variables**\n",
        "\n",
        "The python print is used to output variables and + is used to combine both \n",
        "text and variable"
      ],
      "metadata": {
        "id": "xEoufjaHqv7U"
      }
    },
    {
      "cell_type": "code",
      "source": [
        "a = \"programming language\"\n",
        "\n",
        "print(\"Python is a popular \" + a)\n",
        "\n",
        "#Other way\n",
        "\n",
        "a = \"created by \"\n",
        "b = \"Guido Van Rossum \"\n",
        "c = \"in 1991.\"\n",
        "d = a + b + c\n",
        "\n",
        "print(d)\n"
      ],
      "metadata": {
        "colab": {
          "base_uri": "https://localhost:8080/"
        },
        "id": "fLWjM8K-rIA5",
        "outputId": "733a1704-1936-4ece-f3a9-3168049cdb0b"
      },
      "execution_count": 88,
      "outputs": [
        {
          "output_type": "stream",
          "name": "stdout",
          "text": [
            "Python is a popular programming language\n",
            "created by Guido Van Rossum in 1991.\n"
          ]
        }
      ]
    },
    {
      "cell_type": "markdown",
      "source": [
        "**Arithmetic Operations**\n",
        "\n",
        "There are 7 arithmetic operators in Python : Addition; Subtraction; Multiplication; Division; Modulus; Exponentiation; Floor division"
      ],
      "metadata": {
        "id": "a4-yQafHt-eU"
      }
    },
    {
      "cell_type": "code",
      "source": [
        "#Given\n",
        "a, b, c = 6, 11, 0\n",
        "\n",
        "#Addition\n",
        "c = a + b\n",
        "print(\"1. a + b is\", c)"
      ],
      "metadata": {
        "colab": {
          "base_uri": "https://localhost:8080/"
        },
        "id": "GxNHRlByuikh",
        "outputId": "420d5856-ae81-4874-fca6-16db2ee6f5cd"
      },
      "execution_count": 89,
      "outputs": [
        {
          "output_type": "stream",
          "name": "stdout",
          "text": [
            "1. a + b is 17\n"
          ]
        }
      ]
    },
    {
      "cell_type": "code",
      "source": [
        "#Subraction\n",
        "c = a - b\n",
        "print(\"2. a - b is\", c)"
      ],
      "metadata": {
        "colab": {
          "base_uri": "https://localhost:8080/"
        },
        "id": "GCBXWZoK7ZnB",
        "outputId": "da5a0d8a-c063-431d-f5c0-6c8de0b1931b"
      },
      "execution_count": 90,
      "outputs": [
        {
          "output_type": "stream",
          "name": "stdout",
          "text": [
            "2. a - b is -5\n"
          ]
        }
      ]
    },
    {
      "cell_type": "code",
      "source": [
        "#Multiplication\n",
        "c = a * b\n",
        "print(\"3. a * b is\", c)"
      ],
      "metadata": {
        "colab": {
          "base_uri": "https://localhost:8080/"
        },
        "id": "MTIxhBgo7n6W",
        "outputId": "6b5d7a51-794e-41a5-be49-84033a0cee17"
      },
      "execution_count": 91,
      "outputs": [
        {
          "output_type": "stream",
          "name": "stdout",
          "text": [
            "3. a * b is 66\n"
          ]
        }
      ]
    },
    {
      "cell_type": "code",
      "source": [
        "#Division\n",
        "c = a / b\n",
        "print(\"4. a / b is\", c)"
      ],
      "metadata": {
        "colab": {
          "base_uri": "https://localhost:8080/"
        },
        "id": "Sv_c7g_M7ugr",
        "outputId": "29c4eed9-0500-4761-94c7-f01f96fd0730"
      },
      "execution_count": 92,
      "outputs": [
        {
          "output_type": "stream",
          "name": "stdout",
          "text": [
            "4. a / b is 0.5454545454545454\n"
          ]
        }
      ]
    },
    {
      "cell_type": "code",
      "source": [
        "#Modulus\n",
        "c = a % b\n",
        "print(\"5. a % b is\", c)"
      ],
      "metadata": {
        "colab": {
          "base_uri": "https://localhost:8080/"
        },
        "id": "O7dSk_Hc7ykB",
        "outputId": "8a740ae1-4ee3-4839-c054-7006c5abcd79"
      },
      "execution_count": 93,
      "outputs": [
        {
          "output_type": "stream",
          "name": "stdout",
          "text": [
            "5. a % b is 6\n"
          ]
        }
      ]
    },
    {
      "cell_type": "code",
      "source": [
        "#Exponentiation\n",
        "c = a ** b\n",
        "print(\"6. a ** b is\", c)"
      ],
      "metadata": {
        "colab": {
          "base_uri": "https://localhost:8080/"
        },
        "id": "hyGNhHLg71Tl",
        "outputId": "bc5e85df-1882-4a4f-c8ba-f81d90780b7e"
      },
      "execution_count": 94,
      "outputs": [
        {
          "output_type": "stream",
          "name": "stdout",
          "text": [
            "6. a ** b is 362797056\n"
          ]
        }
      ]
    },
    {
      "cell_type": "code",
      "source": [
        "#Floor Division\n",
        "c = a // b\n",
        "print(\"7. a // b is\", c)"
      ],
      "metadata": {
        "colab": {
          "base_uri": "https://localhost:8080/"
        },
        "id": "AgeMp6Pf8A7V",
        "outputId": "92adb3b1-63cc-46a4-8bd9-3db424e2d5f6"
      },
      "execution_count": 95,
      "outputs": [
        {
          "output_type": "stream",
          "name": "stdout",
          "text": [
            "7. a // b is 0\n"
          ]
        }
      ]
    },
    {
      "cell_type": "markdown",
      "source": [
        "**Assignment Operators**\n",
        "\n",
        "Used to assign values to variables\n",
        "\n",
        "```\n",
        "Operator           Example          Same as\n",
        "   =\t            x = 5\t       x = 5\t\n",
        "   +=\t           x += 3\t      x = x + 3\t\n",
        "   -=\t           x -= 3      \tx = x - 3\t\n",
        "   *=\t           x *= 3\t      x = x * 3\t\n",
        "   /=\t           x /= 3\t      x = x / 3\t\n",
        "   %=\t           x %= 3\t      x = x % 3\t\n",
        "   //=\t          x //= 3     \tx = x // 3\t\n",
        "   **=          \tx **= 3\t     x = x ** 3\t\n",
        "   &=\t           x &= 3\t      x = x & 3\t\n",
        "   |=\t           x |= 3\t      x = x | 3\t\n",
        "   ^=\t           x ^= 3\t      x = x ^ 3\t\n",
        "   >>=\t          x >>= 3     \tx = x >> 3\t\n",
        "   <<=\t          x <<= 3\t     x = x << 3\n",
        "```\n",
        "\n"
      ],
      "metadata": {
        "id": "SLOSmAZdyLsb"
      }
    },
    {
      "cell_type": "markdown",
      "source": [
        "\n",
        "**Comparison Operator**\n",
        "\n",
        "Comparison operators are used to compare two values\n",
        "```\n",
        "Operator               Name               Example\n",
        "   ==\t              Equal\t          x == y\t\n",
        "   !=\t            Not equal\t        x != y\t\n",
        "   >\t            Greater than\t      x > y\t\n",
        "   <\t             Less than\t        x < y\t\n",
        "   >=\t     Greater than or equal to\tx >= y\t\n",
        "   <=\t       Less than or equal to\t x <= y\n",
        "```\n",
        "\n"
      ],
      "metadata": {
        "id": "wYDLrz661jTf"
      }
    },
    {
      "cell_type": "markdown",
      "source": [
        "**Logical Operator**\n",
        "\n",
        "Logical operators are used to combine conditional statements\n",
        "\n",
        "```\n",
        "Operator                          Description\t                             Example\n",
        "  and \t         Returns True if both statements are true\t           x < 5 and  x < 10\t\n",
        "  or         \tReturns True if one of the statements is true\t          x < 5 or x < 4\t\n",
        "  not\t   Reverse the result, returns False if the result is true      not(x < 5 and x < 10)\n",
        "```\n",
        "\n"
      ],
      "metadata": {
        "id": "yetGq61M_GUm"
      }
    },
    {
      "cell_type": "code",
      "source": [
        "#AND operator\n",
        "a, b, c = 1, 2, 3\n",
        "a < b and b < c"
      ],
      "metadata": {
        "colab": {
          "base_uri": "https://localhost:8080/"
        },
        "id": "HT8ZR0zvBMUa",
        "outputId": "fbce07b2-ffa9-4282-c1ee-4355a7309f80"
      },
      "execution_count": 96,
      "outputs": [
        {
          "output_type": "execute_result",
          "data": {
            "text/plain": [
              "True"
            ]
          },
          "metadata": {},
          "execution_count": 96
        }
      ]
    },
    {
      "cell_type": "code",
      "source": [
        "#OR operator\n",
        "a > b or a < c"
      ],
      "metadata": {
        "colab": {
          "base_uri": "https://localhost:8080/"
        },
        "id": "CqPaAVlHBwIC",
        "outputId": "6617f19d-a927-4eea-f692-4e608be9dbb7"
      },
      "execution_count": 97,
      "outputs": [
        {
          "output_type": "execute_result",
          "data": {
            "text/plain": [
              "True"
            ]
          },
          "metadata": {},
          "execution_count": 97
        }
      ]
    },
    {
      "cell_type": "code",
      "source": [
        "#not operator\n",
        "not(a < b and b < c)"
      ],
      "metadata": {
        "colab": {
          "base_uri": "https://localhost:8080/"
        },
        "id": "-W-Tq6uVCC_g",
        "outputId": "6e32b9b5-8c72-4617-fb97-bd93e639fff8"
      },
      "execution_count": 98,
      "outputs": [
        {
          "output_type": "execute_result",
          "data": {
            "text/plain": [
              "False"
            ]
          },
          "metadata": {},
          "execution_count": 98
        }
      ]
    },
    {
      "cell_type": "markdown",
      "source": [
        "**Identity Operator**\n",
        "\n",
        "Used to compare the objects, not if they are equal, but if they are actually the same object, with the same memory location\n",
        "\n",
        "\n",
        "```\n",
        "Operator                         Description                         Example\n",
        "   is \t   Returns true if both variables are the same object\t   x is y\t\n",
        " is not\tReturns true if both variables are not the same object\tx is not y\n",
        "```"
      ],
      "metadata": {
        "id": "XAfNAb1SCbkI"
      }
    },
    {
      "cell_type": "code",
      "source": [
        "a, b, c = 1, 2, 1\n",
        "print(a is b)\n",
        "print(a is c)"
      ],
      "metadata": {
        "colab": {
          "base_uri": "https://localhost:8080/"
        },
        "id": "5Zp0bLvNDVBH",
        "outputId": "6c03cb85-2602-470f-91d4-3142caa33a8b"
      },
      "execution_count": 99,
      "outputs": [
        {
          "output_type": "stream",
          "name": "stdout",
          "text": [
            "False\n",
            "True\n"
          ]
        }
      ]
    },
    {
      "cell_type": "code",
      "source": [
        "print(a is not b)\n",
        "print(a is not c)"
      ],
      "metadata": {
        "colab": {
          "base_uri": "https://localhost:8080/"
        },
        "id": "TpVhlpT9DpFj",
        "outputId": "1755157d-3a33-49b8-f33e-c07ddd9e4bb2"
      },
      "execution_count": 100,
      "outputs": [
        {
          "output_type": "stream",
          "name": "stdout",
          "text": [
            "True\n",
            "False\n"
          ]
        }
      ]
    },
    {
      "cell_type": "markdown",
      "source": [
        "**Bitwise Operator**\n",
        "Used to compare (binary) numbers\n",
        "\n",
        "```\n",
        "Operator              Name\t                         Description\n",
        "   & \t             AND\t                Sets each bit to 1 if both bits are 1\n",
        "   |                  OR       \t       Sets each bit to 1 if one of two bits is 1\n",
        "   ^                  XOR\t           Sets each bit to 1 if only one of two bits is 1\n",
        "   ~                  NOT\t                      Inverts all the bits\n",
        "   <<         Zero fill left shift\t Shift left by pushing zeros in from the right and\n",
        "                                               let the leftmost bits fall off\n",
        "   >>\t      Signed right shift\t   Shift right by pushing copies of the leftmost bit\n",
        "                                      in from the left, and let the rightmost bits fall off\n",
        "```\n",
        "\n"
      ],
      "metadata": {
        "id": "LpTTuqrRAknb"
      }
    },
    {
      "cell_type": "code",
      "source": [
        "x = 10\n",
        "print(x<<2)\n",
        "\n",
        "y = 2\n",
        "print(y>>1)"
      ],
      "metadata": {
        "colab": {
          "base_uri": "https://localhost:8080/"
        },
        "id": "glisOg7wGiVf",
        "outputId": "9e96ab4c-600f-4f4d-a90b-3aa29ca01444"
      },
      "execution_count": 101,
      "outputs": [
        {
          "output_type": "stream",
          "name": "stdout",
          "text": [
            "40\n",
            "1\n"
          ]
        }
      ]
    }
  ]
}